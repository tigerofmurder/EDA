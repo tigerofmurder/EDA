{
 "cells": [
  {
   "cell_type": "code",
   "execution_count": 3,
   "metadata": {},
   "outputs": [
    {
     "name": "stdout",
     "output_type": "stream",
     "text": [
      "n^2 +3\t\t6-3n\t\t3/n\t\t2n^2-1\t\t1/3n\t\tn^3-1/n\n",
      "1^2+3 =4\t\t3\t\t3.00\t\t1\t\t0.3333\t\t0.00\n",
      "2^2+3 =7\t\t0\t\t1.50\t\t7\t\t0.1667\t\t3.50\n",
      "3^2+3 =12\t\t-3\t\t1.00\t\t17\t\t0.1111\t\t8.67\n",
      "4^2+3 =19\t\t-6\t\t0.75\t\t31\t\t0.0833\t\t15.75\n",
      "5^2+3 =28\t\t-9\t\t0.60\t\t49\t\t0.0667\t\t24.80\n",
      "6^2+3 =39\t\t-12\t\t0.50\t\t71\t\t0.0556\t\t35.83\n",
      "7^2+3 =52\t\t-15\t\t0.43\t\t97\t\t0.0476\t\t48.86\n",
      "8^2+3 =67\t\t-18\t\t0.38\t\t127\t\t0.0417\t\t63.88\n",
      "9^2+3 =84\t\t-21\t\t0.33\t\t161\t\t0.0370\t\t80.89\n",
      "10^2+3 =103\t\t-24\t\t0.30\t\t199\t\t0.0333\t\t99.90\n",
      "11^2+3 =124\t\t-27\t\t0.27\t\t241\t\t0.0303\t\t120.91\n",
      "12^2+3 =147\t\t-30\t\t0.25\t\t287\t\t0.0278\t\t143.92\n",
      "13^2+3 =172\t\t-33\t\t0.23\t\t337\t\t0.0256\t\t168.92\n",
      "14^2+3 =199\t\t-36\t\t0.21\t\t391\t\t0.0238\t\t195.93\n",
      "15^2+3 =228\t\t-39\t\t0.20\t\t449\t\t0.0222\t\t224.93\n",
      "16^2+3 =259\t\t-42\t\t0.19\t\t511\t\t0.0208\t\t255.94\n",
      "17^2+3 =292\t\t-45\t\t0.18\t\t577\t\t0.0196\t\t288.94\n",
      "18^2+3 =327\t\t-48\t\t0.17\t\t647\t\t0.0185\t\t323.94\n",
      "19^2+3 =364\t\t-51\t\t0.16\t\t721\t\t0.0175\t\t360.95\n"
     ]
    }
   ],
   "source": [
    "print(\"n^2 +3\\t\\t6-3n\\t\\t3/n\\t\\t2n^2-1\\t\\t1/3n\\t\\tn^3-1/n\")\n",
    "for n in range (1,20):\n",
    "    a = n**2+3\n",
    "    b = 6-(3*n)\n",
    "    c = 3/n\n",
    "    d = 2*(n**2)-1\n",
    "    e = 1/(3*n)\n",
    "    f = (n**3-1)/n\n",
    "    print(str(n)+\"^2+3 =\"+str(a) +\"\\t\\t\"+ str(b)+\"\\t\\t%.2f\"%c+\"\\t\\t\"+ str(d)+\"\\t\\t%.4f\"%e+\"\\t\\t%.2f\"%f)"
   ]
  },
  {
   "cell_type": "code",
   "execution_count": null,
   "metadata": {},
   "outputs": [],
   "source": []
  },
  {
   "cell_type": "code",
   "execution_count": null,
   "metadata": {},
   "outputs": [],
   "source": []
  },
  {
   "cell_type": "code",
   "execution_count": null,
   "metadata": {},
   "outputs": [],
   "source": []
  }
 ],
 "metadata": {
  "kernelspec": {
   "display_name": "Python 3",
   "language": "python",
   "name": "python3"
  },
  "language_info": {
   "codemirror_mode": {
    "name": "ipython",
    "version": 3
   },
   "file_extension": ".py",
   "mimetype": "text/x-python",
   "name": "python",
   "nbconvert_exporter": "python",
   "pygments_lexer": "ipython3",
   "version": "3.7.3"
  }
 },
 "nbformat": 4,
 "nbformat_minor": 4
}
