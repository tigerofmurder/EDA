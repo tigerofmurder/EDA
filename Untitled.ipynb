{
 "cells": [
  {
   "cell_type": "code",
   "execution_count": 35,
   "metadata": {},
   "outputs": [
    {
     "name": "stdout",
     "output_type": "stream",
     "text": [
      "['/home/tigerofmurder', '/home/tigerofmurder/anaconda3/lib/python37.zip', '/home/tigerofmurder/anaconda3/lib/python3.7', '/home/tigerofmurder/anaconda3/lib/python3.7/lib-dynload', '', '/home/tigerofmurder/anaconda3/lib/python3.7/site-packages', '/home/tigerofmurder/anaconda3/lib/python3.7/site-packages/IPython/extensions', '/home/tigerofmurder/.ipython', '/cursos/EDA', '/cursos/EDA', '/home/tigerofmurder/cursos/EDA']\n"
     ]
    }
   ],
   "source": [
    "%matplotlib inline\n",
    "import matplotlib\n",
    "import numpy as np\n",
    "import matplotlib.pyplot as plt\n",
    "\n",
    "import os\n",
    "import sys\n",
    "\n",
    "from random import shuffle\n",
    "from tryItABunch import tryItABunch\n",
    "\n",
    "sys.executable\n",
    "\n",
    "sys.path.append('/home/tigerofmurder/cursos/EDA')\n",
    "print(sys.path)\n"
   ]
  },
  {
   "cell_type": "code",
   "execution_count": 41,
   "metadata": {},
   "outputs": [],
   "source": [
    "def bubbleSort(arr): \n",
    "    n = len(arr)\n",
    "    for i in range(n):\n",
    "        for j in range(0, n-i-1):\n",
    "            if arr[j] > arr[j+1] : \n",
    "                arr[j], arr[j+1] = arr[j+1], arr[j]"
   ]
  },
  {
   "cell_type": "code",
   "execution_count": 58,
   "metadata": {},
   "outputs": [],
   "source": [
    "import random, math\n",
    "\n",
    "def countingSort(tlist, k):\n",
    "    count_list = [0]*(k)\n",
    "    for n in tlist:\n",
    "        count_list[n] = count_list[n] + 1\n",
    "    i=0\n",
    "    for n in range(len(count_list)):\n",
    "        while count_list[n] > 0:\n",
    "            tlist[i] = n\n",
    "            i+=1\n",
    "            count_list[n] -= 1\n",
    "            \n",
    "def countSort(arr):\n",
    "    countingSort(arr, max(arr)+1)"
   ]
  },
  {
   "cell_type": "code",
   "execution_count": 50,
   "metadata": {},
   "outputs": [],
   "source": [
    "def heapify(arr, n, i): \n",
    "    largest = i\n",
    "    l = 2 * i + 1\n",
    "    r = 2 * i + 2\n",
    "    if l < n and arr[i] < arr[l]: \n",
    "        largest = l\n",
    "    if r < n and arr[largest] < arr[r]: \n",
    "        largest = r\n",
    "    if largest != i: \n",
    "        arr[i],arr[largest] = arr[largest],arr[i]\n",
    "        heapify(arr, n, largest) \n",
    "\n",
    "def heapSort(arr): \n",
    "    n = len(arr) \n",
    "    for i in range(n, -1, -1): \n",
    "        heapify(arr, n, i)\n",
    "    for i in range(n-1, 0, -1): \n",
    "        arr[i], arr[0] = arr[0], arr[i]\n",
    "        heapify(arr, i, 0) "
   ]
  },
  {
   "cell_type": "code",
   "execution_count": 51,
   "metadata": {},
   "outputs": [],
   "source": [
    "def insertionSort(arr): \n",
    "    for i in range(1, len(arr)): \n",
    "        key = arr[i]\n",
    "        j = i-1\n",
    "        while j >= 0 and key < arr[j] : \n",
    "                arr[j + 1] = arr[j] \n",
    "                j -= 1\n",
    "        arr[j + 1] = key "
   ]
  },
  {
   "cell_type": "code",
   "execution_count": 52,
   "metadata": {},
   "outputs": [],
   "source": [
    "def mergeSort(arr): \n",
    "    if len(arr) >1: \n",
    "        mid = len(arr)//2\n",
    "        L = arr[:mid]\n",
    "        R = arr[mid:]\n",
    "  \n",
    "        mergeSort(L)\n",
    "        mergeSort(R)\n",
    "  \n",
    "        i = j = k = 0\n",
    "        while i < len(L) and j < len(R): \n",
    "            if L[i] < R[j]: \n",
    "                arr[k] = L[i] \n",
    "                i+=1\n",
    "            else: \n",
    "                arr[k] = R[j] \n",
    "                j+=1\n",
    "            k+=1\n",
    "        while i < len(L): \n",
    "            arr[k] = L[i] \n",
    "            i+=1\n",
    "            k+=1\n",
    "          \n",
    "        while j < len(R): \n",
    "            arr[k] = R[j] \n",
    "            j+=1\n",
    "            k+=1"
   ]
  },
  {
   "cell_type": "code",
   "execution_count": 60,
   "metadata": {},
   "outputs": [],
   "source": [
    "def partition(arr,low,high): \n",
    "    i = ( low-1 )\n",
    "    pivot = arr[high]\n",
    "    for j in range(low , high):\n",
    "        if   arr[j] < pivot:\n",
    "            i = i+1 \n",
    "            arr[i],arr[j] = arr[j],arr[i] \n",
    "    arr[i+1],arr[high] = arr[high],arr[i+1] \n",
    "    return ( i+1 ) \n",
    "  \n",
    "def iquickSort(arr,low,high): \n",
    "    if low < high: \n",
    "        pi = partition(arr,low,high)\n",
    "        iquickSort(arr, low, pi-1) \n",
    "        iquickSort(arr, pi+1, high) \n",
    "\n",
    "def quickSort(arr):\n",
    "    n = len(arr) \n",
    "    iquickSort(arr,0,n-1) "
   ]
  },
  {
   "cell_type": "code",
   "execution_count": 54,
   "metadata": {},
   "outputs": [],
   "source": [
    "def selectionSort(arr):\n",
    "    for i in range(len(A)): \n",
    "        min_idx = i \n",
    "        for j in range(i+1, len(A)): \n",
    "            if A[min_idx] > A[j]: \n",
    "                min_idx = j \n",
    "    A[i], A[min_idx] = A[min_idx], A[i]"
   ]
  },
  {
   "cell_type": "code",
   "execution_count": 62,
   "metadata": {},
   "outputs": [],
   "source": [
    "nValuesNaive, tValuesNaive = tryItABunch( bubbleSort, startN = 50, endN = 1050, stepSize=50, numTrials=10, listMax = 10 )\n",
    "\n",
    "nValues, tValues = tryItABunch( insertionSort, startN = 50, endN = 1050, stepSize=50, numTrials=5, listMax = 10) \n",
    "\n",
    "nValuesC, tValuesC = tryItABunch( countSort, startN = 50, endN = 1050, stepSize=50, numTrials=10, listMax = 10 )\n",
    "\n",
    "nValuesH, tValuesH = tryItABunch( heapSort, startN = 50, endN = 1050, stepSize=50, numTrials=5, listMax = 10) \n",
    "\n",
    "nValuesM, tValuesM = tryItABunch( mergeSort, startN = 50, endN = 1050, stepSize=50, numTrials=5, listMax = 10) \n",
    "\n",
    "nValuesQ, tValuesQ = tryItABunch( quickSort, startN = 50, endN = 1050, stepSize=50, numTrials=5, listMax = 10) \n",
    "\n",
    "nValuesS, tValuesS = tryItABunch( selectionSort, startN = 50, endN = 1050, stepSize=50, numTrials=5, listMax = 10) \n"
   ]
  },
  {
   "cell_type": "code",
   "execution_count": 65,
   "metadata": {},
   "outputs": [
    {
     "data": {
      "text/plain": [
       "<matplotlib.legend.Legend at 0x7fe80b9fcef0>"
      ]
     },
     "execution_count": 65,
     "metadata": {},
     "output_type": "execute_result"
    },
    {
     "data": {
      "image/png": "[encoded data removed]",
      "text/plain": [
       "<Figure size 432x288 with 1 Axes>"
      ]
     },
     "metadata": {
      "needs_background": "light"
     },
     "output_type": "display_data"
    }
   ],
   "source": [
    "plt.plot(nValuesNaive, tValuesNaive, color=\"red\", label=\"BubbleSort\")\n",
    "plt.plot(nValues, tValues, color=\"blue\", label=\"InsertionSort\")\n",
    "plt.plot(nValuesC, tValuesC, color=\"green\", label=\"CountingSort\")\n",
    "plt.plot(nValuesH, tValuesH, color=\"black\", label=\"HeapSort\")\n",
    "plt.plot(nValuesM, tValuesM, color=\"skyblue\", label=\"mergeSort\")\n",
    "plt.plot(nValuesQ, tValuesQ, color=\"pink\", label=\"InsertionSort\")\n",
    "plt.plot(nValuesS, tValuesS, color=\"brown\", label=\"InsertionSort\")\n",
    "plt.xlabel(\"n\")\n",
    "plt.ylabel(\"Time(ms)\")\n",
    "plt.legend()"
   ]
  },
  {
   "cell_type": "code",
   "execution_count": null,
   "metadata": {},
   "outputs": [],
   "source": []
  },
  {
   "cell_type": "code",
   "execution_count": null,
   "metadata": {},
   "outputs": [],
   "source": []
  }
 ],
 "metadata": {
  "kernelspec": {
   "display_name": "Python 3",
   "language": "python",
   "name": "python3"
  },
  "language_info": {
   "codemirror_mode": {
    "name": "ipython",
    "version": 3
   },
   "file_extension": ".py",
   "mimetype": "text/x-python",
   "name": "python",
   "nbconvert_exporter": "python",
   "pygments_lexer": "ipython3",
   "version": "3.7.3"
  }
 },
 "nbformat": 4,
 "nbformat_minor": 4
}
