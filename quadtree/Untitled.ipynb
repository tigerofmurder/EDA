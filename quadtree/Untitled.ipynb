{
 "cells": [
  {
   "cell_type": "code",
   "execution_count": 8,
   "metadata": {},
   "outputs": [
    {
     "name": "stdout",
     "output_type": "stream",
     "text": [
      "['/home/tigerofmurder/CURSOS/EDA/quadtree', '/home/tigerofmurder/anaconda3/lib/python37.zip', '/home/tigerofmurder/anaconda3/lib/python3.7', '/home/tigerofmurder/anaconda3/lib/python3.7/lib-dynload', '', '/home/tigerofmurder/anaconda3/lib/python3.7/site-packages', '/home/tigerofmurder/anaconda3/lib/python3.7/site-packages/IPython/extensions', '/home/tigerofmurder/.ipython', '/home/tigerofmurder/cursos/EDA/quadtree/']\n"
     ]
    }
   ],
   "source": [
    "import sys\n",
    "\n",
    "\n",
    "sys.path.append(\"/home/tigerofmurder/cursos/EDA/quadtree/\")\n",
    "\n",
    "print(sys.path)\n"
   ]
  },
  {
   "cell_type": "code",
   "execution_count": null,
   "metadata": {},
   "outputs": [
    {
     "data": {
      "text/plain": [
       "<Figure size 640x480 with 1 Axes>"
      ]
     },
     "metadata": {},
     "output_type": "display_data"
    },
    {
     "name": "stdout",
     "output_type": "stream",
     "text": [
      "260 200\n"
     ]
    }
   ],
   "source": [
    "import cv2 \n",
    "import numpy as np\n",
    "from matplotlib import pyplot as plt\n",
    "\n",
    "\n",
    "img= cv2.imread('thresh1.png')\n",
    "cv2.imshow('Coverted Image',img)\n",
    "cv2.waitKey(0)\n",
    "cv2.destroyAllWindows()\n",
    "plt.axis(\"on\")\n",
    "plt.hist(img.ravel(),256,[0,256]) \n",
    "plt.show()\n",
    "height, width,c = img.shape\n",
    "print(height,width)\n",
    "\n",
    "for y in range(0,width):\n",
    "    for x in range(0,height):\n",
    "        value_thr = 170\n",
    "        value_default = 140\n",
    "        if (img[x,y,0] > value_thr and img[x,y,0] < value_default and\n",
    "            img[x,y,1] > value_thr and img[x,y,1] < value_default and\n",
    "            img[x,y,2] > value_thr and img[x,y,2] < value_default):\n",
    "            img[x,y,0] = 0\n",
    "            img[x,y,1] = 0\n",
    "            img[x,y,2] = 0\n",
    "\n",
    "        else:\n",
    "            img[x,y,0] = 255\n",
    "            img[x,y,1] = 255\n",
    "            img[x,y,2] = 255\n",
    "\n",
    "cv2.imshow('Coverted Image',img)\n",
    "cv2.waitKey(0)\n",
    "cv2.destroyAllWindows()"
   ]
  },
  {
   "cell_type": "code",
   "execution_count": null,
   "metadata": {},
   "outputs": [],
   "source": [
    "import cv2 \n",
    "import numpy as np\n",
    "from matplotlib import pyplot as plt\n",
    "\n",
    "\n",
    "img= cv2.imread('thresh1.png')\n",
    "plt.axis(\"on\")\n",
    "plt.hist(img.ravel(),256,[0,256]) \n",
    "plt.show()\n",
    "height, width,c = img.shape\n",
    "print(height,width)\n",
    "\n",
    "for y in range(0,width):\n",
    "    for x in range(0,height):\n",
    "        value_thr = 180\n",
    "        if (img[x,y,0] > value_thr and img[x,y,1] > value_thr and img[x,y,2] > value_thr):\n",
    "            img[x,y,0] = 0\n",
    "            img[x,y,1] = 0\n",
    "            img[x,y,2] = 0\n",
    "\n",
    "        else:\n",
    "            img[x,y,0] = 255\n",
    "            img[x,y,1] = 255\n",
    "            img[x,y,2] = 255\n",
    "\n",
    "cv2.imshow('Coverted Image',img)\n",
    "cv2.waitKey(0)\n",
    "cv2.destroyAllWindows()"
   ]
  },
  {
   "cell_type": "code",
   "execution_count": 2,
   "metadata": {},
   "outputs": [
    {
     "data": {
      "text/plain": [
       "<Figure size 640x480 with 1 Axes>"
      ]
     },
     "metadata": {},
     "output_type": "display_data"
    },
    {
     "name": "stdout",
     "output_type": "stream",
     "text": [
      "(array([0.000e+00, 0.000e+00, 0.000e+00, 0.000e+00, 0.000e+00, 0.000e+00,\n",
      "       0.000e+00, 0.000e+00, 0.000e+00, 0.000e+00, 0.000e+00, 0.000e+00,\n",
      "       0.000e+00, 0.000e+00, 0.000e+00, 0.000e+00, 0.000e+00, 0.000e+00,\n",
      "       0.000e+00, 0.000e+00, 0.000e+00, 0.000e+00, 0.000e+00, 0.000e+00,\n",
      "       0.000e+00, 0.000e+00, 0.000e+00, 0.000e+00, 0.000e+00, 0.000e+00,\n",
      "       0.000e+00, 0.000e+00, 0.000e+00, 0.000e+00, 0.000e+00, 0.000e+00,\n",
      "       0.000e+00, 0.000e+00, 0.000e+00, 0.000e+00, 0.000e+00, 0.000e+00,\n",
      "       0.000e+00, 0.000e+00, 0.000e+00, 0.000e+00, 0.000e+00, 0.000e+00,\n",
      "       0.000e+00, 0.000e+00, 0.000e+00, 0.000e+00, 0.000e+00, 0.000e+00,\n",
      "       0.000e+00, 0.000e+00, 0.000e+00, 0.000e+00, 0.000e+00, 0.000e+00,\n",
      "       0.000e+00, 0.000e+00, 0.000e+00, 0.000e+00, 0.000e+00, 0.000e+00,\n",
      "       0.000e+00, 0.000e+00, 0.000e+00, 0.000e+00, 0.000e+00, 0.000e+00,\n",
      "       0.000e+00, 0.000e+00, 0.000e+00, 0.000e+00, 0.000e+00, 0.000e+00,\n",
      "       0.000e+00, 0.000e+00, 0.000e+00, 0.000e+00, 0.000e+00, 0.000e+00,\n",
      "       0.000e+00, 0.000e+00, 0.000e+00, 0.000e+00, 0.000e+00, 0.000e+00,\n",
      "       0.000e+00, 0.000e+00, 0.000e+00, 0.000e+00, 0.000e+00, 0.000e+00,\n",
      "       0.000e+00, 0.000e+00, 0.000e+00, 0.000e+00, 0.000e+00, 0.000e+00,\n",
      "       0.000e+00, 0.000e+00, 0.000e+00, 0.000e+00, 0.000e+00, 0.000e+00,\n",
      "       0.000e+00, 0.000e+00, 0.000e+00, 0.000e+00, 0.000e+00, 0.000e+00,\n",
      "       0.000e+00, 0.000e+00, 0.000e+00, 0.000e+00, 0.000e+00, 0.000e+00,\n",
      "       0.000e+00, 0.000e+00, 0.000e+00, 0.000e+00, 0.000e+00, 0.000e+00,\n",
      "       1.000e+00, 0.000e+00, 0.000e+00, 0.000e+00, 0.000e+00, 0.000e+00,\n",
      "       0.000e+00, 2.000e+00, 1.000e+00, 1.000e+00, 0.000e+00, 0.000e+00,\n",
      "       1.000e+00, 1.000e+00, 0.000e+00, 5.000e+00, 3.000e+00, 0.000e+00,\n",
      "       0.000e+00, 6.000e+00, 4.000e+00, 0.000e+00, 3.000e+00, 4.000e+00,\n",
      "       1.200e+01, 0.000e+00, 3.000e+00, 2.400e+01, 0.000e+00, 6.000e+00,\n",
      "       2.300e+01, 0.000e+00, 0.000e+00, 2.000e+01, 2.100e+01, 0.000e+00,\n",
      "       3.600e+01, 0.000e+00, 4.500e+01, 0.000e+00, 6.000e+01, 2.600e+01,\n",
      "       2.400e+01, 0.000e+00, 8.500e+01, 8.000e+01, 0.000e+00, 5.400e+01,\n",
      "       5.400e+01, 1.150e+02, 0.000e+00, 1.270e+02, 1.550e+02, 7.400e+01,\n",
      "       0.000e+00, 1.830e+02, 2.180e+02, 0.000e+00, 1.240e+02, 2.740e+02,\n",
      "       3.420e+02, 0.000e+00, 4.910e+02, 4.880e+02, 6.220e+02, 0.000e+00,\n",
      "       4.000e+02, 1.578e+03, 0.000e+00, 1.718e+03, 9.620e+02, 3.641e+03,\n",
      "       0.000e+00, 2.953e+03, 3.123e+03, 0.000e+00, 3.171e+03, 3.110e+03,\n",
      "       2.922e+03, 0.000e+00, 4.135e+03, 2.435e+03, 2.226e+03, 0.000e+00,\n",
      "       1.920e+03, 2.473e+03, 0.000e+00, 2.251e+03, 1.376e+03, 1.682e+03,\n",
      "       0.000e+00, 9.960e+02, 1.224e+03, 7.020e+02, 0.000e+00, 8.630e+02,\n",
      "       4.970e+02, 0.000e+00, 5.650e+02, 4.160e+02, 2.700e+02, 0.000e+00,\n",
      "       1.860e+02, 1.340e+02, 0.000e+00, 1.100e+02, 6.800e+01, 3.900e+01,\n",
      "       0.000e+00, 2.100e+01, 9.000e+00, 3.000e+00, 0.000e+00, 0.000e+00,\n",
      "       3.000e+00, 0.000e+00, 0.000e+00, 0.000e+00, 0.000e+00, 0.000e+00,\n",
      "       0.000e+00, 0.000e+00, 0.000e+00, 0.000e+00, 0.000e+00, 0.000e+00,\n",
      "       0.000e+00, 0.000e+00, 0.000e+00, 0.000e+00]), array([  0.,   1.,   2.,   3.,   4.,   5.,   6.,   7.,   8.,   9.,  10.,\n",
      "        11.,  12.,  13.,  14.,  15.,  16.,  17.,  18.,  19.,  20.,  21.,\n",
      "        22.,  23.,  24.,  25.,  26.,  27.,  28.,  29.,  30.,  31.,  32.,\n",
      "        33.,  34.,  35.,  36.,  37.,  38.,  39.,  40.,  41.,  42.,  43.,\n",
      "        44.,  45.,  46.,  47.,  48.,  49.,  50.,  51.,  52.,  53.,  54.,\n",
      "        55.,  56.,  57.,  58.,  59.,  60.,  61.,  62.,  63.,  64.,  65.,\n",
      "        66.,  67.,  68.,  69.,  70.,  71.,  72.,  73.,  74.,  75.,  76.,\n",
      "        77.,  78.,  79.,  80.,  81.,  82.,  83.,  84.,  85.,  86.,  87.,\n",
      "        88.,  89.,  90.,  91.,  92.,  93.,  94.,  95.,  96.,  97.,  98.,\n",
      "        99., 100., 101., 102., 103., 104., 105., 106., 107., 108., 109.,\n",
      "       110., 111., 112., 113., 114., 115., 116., 117., 118., 119., 120.,\n",
      "       121., 122., 123., 124., 125., 126., 127., 128., 129., 130., 131.,\n",
      "       132., 133., 134., 135., 136., 137., 138., 139., 140., 141., 142.,\n",
      "       143., 144., 145., 146., 147., 148., 149., 150., 151., 152., 153.,\n",
      "       154., 155., 156., 157., 158., 159., 160., 161., 162., 163., 164.,\n",
      "       165., 166., 167., 168., 169., 170., 171., 172., 173., 174., 175.,\n",
      "       176., 177., 178., 179., 180., 181., 182., 183., 184., 185., 186.,\n",
      "       187., 188., 189., 190., 191., 192., 193., 194., 195., 196., 197.,\n",
      "       198., 199., 200., 201., 202., 203., 204., 205., 206., 207., 208.,\n",
      "       209., 210., 211., 212., 213., 214., 215., 216., 217., 218., 219.,\n",
      "       220., 221., 222., 223., 224., 225., 226., 227., 228., 229., 230.,\n",
      "       231., 232., 233., 234., 235., 236., 237., 238., 239., 240., 241.,\n",
      "       242., 243., 244., 245., 246., 247., 248., 249., 250., 251., 252.,\n",
      "       253., 254., 255., 256.]), <a list of 256 Patch objects>)\n"
     ]
    }
   ],
   "source": [
    "import cv2\n",
    "import numpy as np\n",
    "from matplotlib import pyplot as plt\n",
    "plt.axis(\"on\")\n",
    "img = cv2.imread('thresh1.png',0)\n",
    "\n",
    "hist,bins = np.histogram(img.flatten(),256,[0,256])\n",
    "\n",
    "cdf = hist.cumsum()\n",
    "cdf_normalized = cdf * hist.max()/ cdf.max()\n",
    "\n",
    "plt.plot(cdf_normalized, color = 'b')\n",
    "y = plt.hist(img.flatten(),256,[0,256], color = 'r')\n",
    "#y = plt.hist(x,10)  \n",
    "plt.xlim([0,256])\n",
    "plt.legend(('cdf','histogram'), loc = 'upper left')\n",
    "plt.show()\n",
    "\n",
    "cdf_m = np.ma.masked_equal(cdf,0)\n",
    "cdf_m = (cdf_m - cdf_m.min())*255/(cdf_m.max()-cdf_m.min())\n",
    "cdf = np.ma.filled(cdf_m,0).astype('uint8')\n",
    "print (y)"
   ]
  },
  {
   "cell_type": "code",
   "execution_count": 4,
   "metadata": {},
   "outputs": [
    {
     "name": "stdout",
     "output_type": "stream",
     "text": [
      "s 1   1\n",
      "s 2   3\n",
      "s 3   4\n",
      "s 4   5\n",
      "s 5   6\n",
      "s 6   6\n",
      "s 7   6\n",
      "s 8   7\n",
      "[790, 1023, 850, 656, 329, 245, 122, 81]\n",
      "0.19287109375\n"
     ]
    },
    {
     "data": {
      "image/png": "[encoded data removed]",
      "text/plain": [
       "<Figure size 432x288 with 1 Axes>"
      ]
     },
     "metadata": {
      "needs_background": "light"
     },
     "output_type": "display_data"
    }
   ],
   "source": [
    "def sn(L,n,Pn):\n",
    "    L = L-1\n",
    "    Pr = 0\n",
    "    for i in range(0,n,1):\n",
    "        Pr += Pn[i]\n",
    "    return L*Pr\n",
    "\n",
    "def Pn(L,size,pn):\n",
    "    for x in L:\n",
    "        pn.append(x/size)\n",
    "\n",
    "L = [790,1023,850,656,329,245,122,81]\n",
    "pn = []\n",
    "Pn(L,4096,pn)\n",
    "for i in range (1,len(L)+1):\n",
    "    print(\"s\",i,\" \",int(sn(len(L),i,pn)))\n",
    "    \n",
    "\n",
    "print(L)\n",
    "print(pn[0])\n",
    "\n",
    "\n",
    "\n",
    "imgc= cv2.imread('thresh1.png')\n",
    "img = cv2.cvtColor(imgc, cv2.COLOR_BGR2GRAY)\n",
    "height, width = img.shape\n",
    "size = height * width\n",
    "\n",
    "plt.axis(\"on\")\n",
    "y = plt.hist(img.ravel(),256,[0,256])\n",
    "plt.show()\n",
    "\n",
    "\n",
    "\n"
   ]
  },
  {
   "cell_type": "code",
   "execution_count": null,
   "metadata": {},
   "outputs": [],
   "source": []
  }
 ],
 "metadata": {
  "kernelspec": {
   "display_name": "Python 3",
   "language": "python",
   "name": "python3"
  },
  "language_info": {
   "codemirror_mode": {
    "name": "ipython",
    "version": 3
   },
   "file_extension": ".py",
   "mimetype": "text/x-python",
   "name": "python",
   "nbconvert_exporter": "python",
   "pygments_lexer": "ipython3",
   "version": "3.7.3"
  }
 },
 "nbformat": 4,
 "nbformat_minor": 4
}
